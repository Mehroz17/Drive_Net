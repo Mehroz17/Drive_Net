{
 "cells": [
  {
   "cell_type": "markdown",
   "metadata": {},
   "source": [
    "## Making an Test UI using Gradio 🖥️"
   ]
  },
  {
   "cell_type": "code",
   "execution_count": 23,
   "metadata": {},
   "outputs": [],
   "source": [
    "from ultralytics import YOLO\n",
    "import numpy as np\n",
    "import matplotlib.pyplot as plt\n",
    "import cv2 \n",
    "import gradio as gr\n",
    "import pickle\n"
   ]
  },
  {
   "cell_type": "markdown",
   "metadata": {},
   "source": [
    "#### following the function to detect the damage from the cars and return the classe of the detected damage"
   ]
  },
  {
   "cell_type": "code",
   "execution_count": 24,
   "metadata": {},
   "outputs": [],
   "source": [
    "# function which is returning the number of object detected\n",
    "def number_object_detected(image):\n",
    "    \n",
    "    custom_model = YOLO('D:/COMSATS/FYP/Coding Part/ModelMaking/Computer_Vision_Part/3rd Try/runs/detect/train9/weights/best.pt') # custome yolo model path\n",
    "    results = custom_model(image,verbose= False)\n",
    "\n",
    "    dic = results[0].names\n",
    "    classes = results[0].boxes.cls.cpu().numpy()\n",
    "    probability = results[0].boxes.conf\n",
    "\n",
    "    class_count = {}\n",
    "    unique_elements, counts = np.unique(classes, return_counts=True)\n",
    "    for e , count in zip(unique_elements,counts):\n",
    "        a = dic[e]\n",
    "        class_count[a] = count\n",
    "    \"\"\"\n",
    "    for r in results:\n",
    "        im_array = r.plot(pil = True)  # plot a BGR numpy array of predictions\n",
    "        array = im_array[..., ::-1]  # Convert BGR to RGB PIL image\n",
    "        plt.axis(\"off\")\n",
    "        plt.imshow(array)\n",
    "        plt.show()\n",
    "    \"\"\"\n",
    "\n",
    "\n",
    "    return class_count"
   ]
  },
  {
   "cell_type": "code",
   "execution_count": 25,
   "metadata": {},
   "outputs": [
    {
     "data": {
      "text/plain": [
       "{'scratch': 6}"
      ]
     },
     "execution_count": 25,
     "metadata": {},
     "output_type": "execute_result"
    }
   ],
   "source": [
    "number_object_detected('C:/Users/M_ros/Downloads/Testingimages/s8.jpeg')"
   ]
  },
  {
   "cell_type": "markdown",
   "metadata": {},
   "source": [
    "#### following is the code to detect car in the image and crop the image according to it, this will help us to achieve better results from the condition detecting model"
   ]
  },
  {
   "cell_type": "code",
   "execution_count": 26,
   "metadata": {},
   "outputs": [],
   "source": [
    "def car_detection_and_Cropping(image_path):\n",
    "    simple_yolo = YOLO('yolov8m.pt')\n",
    "    r = simple_yolo(image_path,verbose = False)\n",
    "    \"\"\"\n",
    "    for i in r:\n",
    "        im_array = i.plot(pil=True)  # plot a BGR numpy array of predictions\n",
    "        array = im_array[..., ::-1]  # Convert BGR to RGB PIL image\n",
    "        plt.axis(\"off\")\n",
    "        plt.imshow(array)\n",
    "        plt.show()\n",
    "        \"\"\"\n",
    "\n",
    "    names = r[0].names\n",
    "    boxes = r[0].boxes.xyxy.cpu().numpy().astype(int)\n",
    "    classes = set(r[0].boxes.cls.cpu().numpy())\n",
    "    classes2 =  [names[i] for i in classes]\n",
    "\n",
    "    # checking if the detected object is the car or not \n",
    "    # if it is car then crop if not then pass the image as it is\n",
    "    if boxes.size != 0 and 'car' in classes2:\n",
    "      \n",
    "      area = []\n",
    "      for x1, y1, x2, y2 in boxes:\n",
    "          area.append((x2 - x1) * (y2 - y1))\n",
    "      max_index, max_a = max(enumerate(area), key=lambda x: x[1])\n",
    "      \n",
    "\n",
    "      # Load the image using OpenCV\n",
    "      image = cv2.imread(image_path)\n",
    "      \n",
    "      \n",
    "      # Crop the image\n",
    "      crop_image = image[boxes[max_index][1]:boxes[max_index][3], boxes[max_index][0]:boxes[max_index][2]]\n",
    "\n",
    "      # passing the crop image to the detection model\n",
    "\n",
    "      class_c = number_object_detected(crop_image)\n",
    "    else:\n",
    "      class_c = number_object_detected(image_path)\n",
    "    return class_c\n"
   ]
  },
  {
   "cell_type": "code",
   "execution_count": 27,
   "metadata": {},
   "outputs": [],
   "source": [
    "severity_points = {\n",
    "    'scratch': 1,\n",
    "    'dent': 2,\n",
    "    'rust': 2,\n",
    "    'paint-damage': 2,\n",
    "    'crack':2\n",
    "}\n",
    "\n",
    "def calculate_condition_score(detections):\n",
    "    total_score = 0\n",
    "    for detection, count in detections.items():\n",
    "        if detection in severity_points:\n",
    "            total_score += severity_points[detection] * count\n",
    "    return total_score\n",
    "\n",
    "def normalize_score(score, max_score):\n",
    "    return (score / max_score) * 10\n",
    "\n"
   ]
  },
  {
   "cell_type": "markdown",
   "metadata": {},
   "source": [
    "## Driving Function💡"
   ]
  },
  {
   "cell_type": "code",
   "execution_count": 28,
   "metadata": {},
   "outputs": [],
   "source": [
    "## this function will take the image url and call all the related functions\n",
    "def estimate_condition(detections):\n",
    "    print(\"Detedtion list\",detections)\n",
    "    max_possible_score = sum(severity_points.values())  # Assuming all types of damage detected\n",
    "    score = calculate_condition_score(detections)\n",
    "    normalized_score = normalize_score(score, max_possible_score)\n",
    "    \n",
    "    # Assign condition rating\n",
    "    if normalized_score <= 10:  # If score is low, condition is Excellent\n",
    "        return \"Excellent\"\n",
    "    elif normalized_score <= 16:  # If score is moderately low, condition is Good\n",
    "        return \"Good\"\n",
    "    elif normalized_score <= 20:  # If score is moderate, condition is Fair \n",
    "        return \"Fair\"\n",
    "    elif normalized_score <= 258:  # If score is moderately high, condition is Poor\n",
    "        return \"Poor\"\n",
    "    else:  # If score is high, condition is Very Poor\n",
    "        return \"Very Poor\"\n"
   ]
  },
  {
   "cell_type": "code",
   "execution_count": 29,
   "metadata": {},
   "outputs": [],
   "source": [
    "## loading the model\n",
    "with open('Price_prediction_decision_tree.pkl', 'rb') as file:\n",
    "    loaded_pipe_lr = pickle.load(file)"
   ]
  },
  {
   "cell_type": "code",
   "execution_count": 30,
   "metadata": {},
   "outputs": [
    {
     "name": "stdout",
     "output_type": "stream",
     "text": [
      "Running on local URL:  http://127.0.0.1:7861\n",
      "\n",
      "To create a public link, set `share=True` in `launch()`.\n"
     ]
    },
    {
     "data": {
      "text/html": [
       "<div><iframe src=\"http://127.0.0.1:7861/\" width=\"100%\" height=\"500\" allow=\"autoplay; camera; microphone; clipboard-read; clipboard-write;\" frameborder=\"0\" allowfullscreen></iframe></div>"
      ],
      "text/plain": [
       "<IPython.core.display.HTML object>"
      ]
     },
     "metadata": {},
     "output_type": "display_data"
    },
    {
     "data": {
      "text/plain": []
     },
     "execution_count": 30,
     "metadata": {},
     "output_type": "execute_result"
    },
    {
     "name": "stdout",
     "output_type": "stream",
     "text": [
      "suzuki swift 2018 65000 lahore white 1300 manual petrol hatchback\n",
      "['C:\\\\Users\\\\M_ros\\\\AppData\\\\Local\\\\Temp\\\\gradio\\\\281550c7566b8d3f03f705c1e76a3ccad752fbb1\\\\s9.png', None]\n",
      "{}\n",
      "WARNING ⚠️ 'source' is missing. Using 'source=C:\\Users\\M_ros\\anaconda3\\envs\\fyp2\\Lib\\site-packages\\ultralytics\\assets'.\n",
      "WARNING ⚠️ 'source' is missing. Using 'source=C:\\Users\\M_ros\\anaconda3\\envs\\fyp2\\Lib\\site-packages\\ultralytics\\assets'.\n",
      "{}\n",
      "Detedtion list {}\n"
     ]
    },
    {
     "name": "stderr",
     "output_type": "stream",
     "text": [
      "c:\\Users\\M_ros\\anaconda3\\envs\\fyp2\\lib\\site-packages\\sklearn\\base.py:493: UserWarning: X does not have valid feature names, but OneHotEncoder was fitted with feature names\n",
      "  warnings.warn(\n"
     ]
    }
   ],
   "source": [
    "def process_data(files,car_brand, car_name, model_year, mileage, city_registered, color, engine_c, trans, fuel_type, Cate):\n",
    "    print(car_brand, car_name, model_year, mileage, city_registered, color, engine_c, trans, fuel_type,  Cate)\n",
    "    # Process uploaded files\n",
    "    file_names = [f for f in files[0]]\n",
    "    print(file_names)\n",
    "    # Process text input\n",
    "    damage_dic = {}\n",
    "    \n",
    "    for i in file_names:\n",
    "          data = car_detection_and_Cropping(i)\n",
    "          print(data)\n",
    "          for key in data.keys():\n",
    "                      if key in damage_dic:\n",
    "                        damage_dic[key] += data[key]\n",
    "                      else:\n",
    "                          damage_dic[key] = data[key]\n",
    "    condition = estimate_condition(damage_dic)\n",
    "    #[[2022,46000 , 'punjba','white',1500,'changan','alsvin','automatic','petrol','excellent','sedan']])\n",
    "    price = loaded_pipe_lr.predict([[model_year,mileage,city_registered,color,engine_c,car_brand,car_name,trans,fuel_type,condition,Cate]])\n",
    "    if price[0] >= 100:\n",
    "          price[0] = price[0]/100\n",
    "    \n",
    "    return  price[0]\n",
    "    \n",
    "\n",
    "\n",
    "years_list = list(range(2024, 1899, -1))\n",
    "gr.Interface(fn = process_data,\n",
    "             inputs=[gr.Gallery(label=\"Upload Files\", type=\"filepath\"),\n",
    "                  gr.Dropdown(['suzuki','toyota','honda','kia'], label='Brand'),\n",
    "                      gr.Textbox(lines=1, label=\"Car Name\"),\n",
    "                      gr.Dropdown(choices=years_list, label='Model Year'),\n",
    "                      gr.Number(label=\"Mileage Km\"),\n",
    "                      gr.Textbox(lines=1, label=\"City Register\"),\n",
    "                      gr.Textbox(lines=1, label=\"Color\"),\n",
    "                      gr.Number(label=\"Engine Capacity in CC\"),\n",
    "                      gr.Radio([\"automatic\", \"manual\"], label=\"Transmission Type\"),\n",
    "                      gr.Radio([\"hybrid\", \"petrol\",'diesel'], label=\"Fuel Type\"),\n",
    "                      gr.Radio([\"hatchback\", \"sedan\",'suv','croosover'], label=\"Category\")],\n",
    "                    outputs=gr.Textbox(label=\"Predicted Price\")).launch()"
   ]
  },
  {
   "cell_type": "code",
   "execution_count": 31,
   "metadata": {},
   "outputs": [
    {
     "data": {
      "text/plain": [
       "'6lacs'"
      ]
     },
     "execution_count": 31,
     "metadata": {},
     "output_type": "execute_result"
    }
   ],
   "source": [
    "a = 3\n",
    "b = 3\n",
    "\n",
    "c = str(a+b) + 'lacs'\n",
    "c"
   ]
  }
 ],
 "metadata": {
  "kernelspec": {
   "display_name": "fyp2",
   "language": "python",
   "name": "python3"
  },
  "language_info": {
   "codemirror_mode": {
    "name": "ipython",
    "version": 3
   },
   "file_extension": ".py",
   "mimetype": "text/x-python",
   "name": "python",
   "nbconvert_exporter": "python",
   "pygments_lexer": "ipython3",
   "version": "3.10.13"
  }
 },
 "nbformat": 4,
 "nbformat_minor": 2
}
